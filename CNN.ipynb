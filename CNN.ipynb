{
  "nbformat": 4,
  "nbformat_minor": 0,
  "metadata": {
    "colab": {
      "name": "Copy of CNN.ipynb",
      "provenance": [],
      "collapsed_sections": [],
      "include_colab_link": true
    },
    "kernelspec": {
      "name": "python3",
      "display_name": "Python 3"
    },
    "language_info": {
      "name": "python"
    }
  },
  "cells": [
    {
      "cell_type": "markdown",
      "metadata": {
        "id": "view-in-github",
        "colab_type": "text"
      },
      "source": [
        "<a href=\"https://colab.research.google.com/github/vuongthutrang174/CNN/blob/main/CNN.ipynb\" target=\"_parent\"><img src=\"https://colab.research.google.com/assets/colab-badge.svg\" alt=\"Open In Colab\"/></a>"
      ]
    },
    {
      "cell_type": "code",
      "metadata": {
        "colab": {
          "base_uri": "https://localhost:8080/"
        },
        "id": "LY8E0uqaAGSi",
        "outputId": "9893e791-b72c-4783-aad6-c3b0ccb71378"
      },
      "source": [
        "from google.colab import drive\n",
        "drive.mount('/content/drive')"
      ],
      "execution_count": null,
      "outputs": [
        {
          "output_type": "stream",
          "text": [
            "Drive already mounted at /content/drive; to attempt to forcibly remount, call drive.mount(\"/content/drive\", force_remount=True).\n"
          ],
          "name": "stdout"
        }
      ]
    },
    {
      "cell_type": "code",
      "metadata": {
        "id": "4U8x1ZHhBkJM"
      },
      "source": [
        "import numpy as np # Xử lý một số toán học\n",
        "import matplotlib.pyplot as plt # Thư viện đồ thị trực quan, hình ảnh,...\n",
        "from pathlib import Path\n",
        "import os, sys\n",
        "import cv2 \n",
        "import random\n",
        "import pickle\n",
        "import tensorflow as tf\n",
        "from tensorflow.data import AUTOTUNE\n",
        "from tensorflow.keras import layers\n",
        "from tensorflow.keras.models import Sequential\n",
        "from tensorflow.keras.layers import Dense, Dropout, Activation, Flatten, Conv2D, MaxPool2D, AveragePooling2D\n",
        "from tensorflow.keras.utils import to_categorical\n",
        "from sklearn.model_selection import train_test_split"
      ],
      "execution_count": null,
      "outputs": []
    },
    {
      "cell_type": "code",
      "metadata": {
        "id": "bI29cLHWBkay",
        "colab": {
          "base_uri": "https://localhost:8080/"
        },
        "outputId": "2543564f-af7a-4dce-9fc3-5cadcdeea786"
      },
      "source": [
        "data_dir = \"/content/drive/MyDrive/Dateset_W3\"\n",
        "data_dir = Path(data_dir)\n",
        "categories = os.listdir(data_dir) \n",
        "number_classes = len(categories)\n",
        "print(categories)"
      ],
      "execution_count": null,
      "outputs": [
        {
          "output_type": "stream",
          "text": [
            "['Benign', 'InSitu', 'Invasive', 'Normal']\n"
          ],
          "name": "stdout"
        }
      ]
    },
    {
      "cell_type": "code",
      "metadata": {
        "id": "ex6HVTdBBz9V"
      },
      "source": [
        "batch_size = 32\n",
        "img_height = 1536\n",
        "img_width = 2048\n",
        "scale_percent = 25\n",
        "width = int(img_width * scale_percent / 100)\n",
        "height = int(img_height * scale_percent / 100)\n",
        "dim = (width, height)\n"
      ],
      "execution_count": null,
      "outputs": []
    },
    {
      "cell_type": "code",
      "metadata": {
        "id": "Rblm10ODB4LJ"
      },
      "source": [
        "X = []\n",
        "y = []"
      ],
      "execution_count": null,
      "outputs": []
    },
    {
      "cell_type": "code",
      "metadata": {
        "id": "VdGuCnn7B9uY",
        "colab": {
          "base_uri": "https://localhost:8080/"
        },
        "outputId": "8a3114af-08d6-4d66-e3c0-87c439540b80"
      },
      "source": [
        "\n",
        "new_img_array = None\n",
        "def create_training_data():\n",
        "  for category in categories: \n",
        "\n",
        "    path = os.path.join(data_dir, category)  \n",
        "    print(path)\n",
        "    label_number = categories.index(category) \n",
        "    for img in os.listdir(path): \n",
        "      try:\n",
        "        img_array = cv2.imread(os.path.join(path, img), cv2.IMREAD_ANYCOLOR) \n",
        "        new_img_array = cv2.resize(img_array, dim, interpolation = cv2.INTER_AREA) \n",
        "        new_img_array = np.array(new_img_array)\n",
        "        X.append(new_img_array)  \n",
        "        y.append(label_number)  \n",
        "      except Exception as e:\n",
        "        pass\n",
        "    print(category + \" success!\")\n",
        "    \n",
        "create_training_data()\n"
      ],
      "execution_count": null,
      "outputs": [
        {
          "output_type": "stream",
          "text": [
            "/content/drive/MyDrive/Dateset_W3/Benign\n",
            "Benign success!\n",
            "/content/drive/MyDrive/Dateset_W3/InSitu\n",
            "InSitu success!\n",
            "/content/drive/MyDrive/Dateset_W3/Invasive\n",
            "Invasive success!\n",
            "/content/drive/MyDrive/Dateset_W3/Normal\n",
            "Normal success!\n"
          ],
          "name": "stdout"
        }
      ]
    },
    {
      "cell_type": "code",
      "metadata": {
        "id": "95TAy69oCBvE"
      },
      "source": [
        "# # Chạy 1 lần, thành công thì không chạy nữa\n",
        "pickle_out = open(\"/content/drive/MyDrive/W3_CNN/X.pickle\", \"wb\")\n",
        "pickle.dump(X, pickle_out)\n",
        "pickle_out.close()"
      ],
      "execution_count": null,
      "outputs": []
    },
    {
      "cell_type": "code",
      "metadata": {
        "id": "iaHmuCAV5ZhS"
      },
      "source": [
        "# # Chạy 1 lần, thành công thì không chạy nữa\n",
        "pickle_out = open(\"/content/drive/MyDrive/W3_CNN/y.pickle\", \"wb\")\n",
        "pickle.dump(y, pickle_out)\n",
        "pickle_out.close()"
      ],
      "execution_count": null,
      "outputs": []
    },
    {
      "cell_type": "code",
      "metadata": {
        "id": "PeQBBXyzCEv4"
      },
      "source": [
        "# Mỗi lần chạy mô hình thì chạy để load dữ liệu\n",
        "pickle_in = open(\"/content/drive/MyDrive/W3_CNN/X.pickle\", \"rb\")\n",
        "X = pickle.load(pickle_in)\n",
        "pickle_in.close()\n",
        "\n",
        "pickle_in = open(\"/content/drive/MyDrive/W3_CNN/y.pickle\", \"rb\")\n",
        "y = pickle.load(pickle_in)\n",
        "pickle_in.close()"
      ],
      "execution_count": null,
      "outputs": []
    },
    {
      "cell_type": "code",
      "metadata": {
        "id": "6G6A3hI1uHy5"
      },
      "source": [
        "X = np.array(X)"
      ],
      "execution_count": null,
      "outputs": []
    },
    {
      "cell_type": "code",
      "metadata": {
        "id": "S1sfgvWovSd2"
      },
      "source": [
        "X = X / 255"
      ],
      "execution_count": null,
      "outputs": []
    },
    {
      "cell_type": "code",
      "metadata": {
        "id": "T8me9OE4vTw9",
        "colab": {
          "base_uri": "https://localhost:8080/"
        },
        "outputId": "2ceed0bd-22ba-4472-d7c7-2b4e623223e6"
      },
      "source": [
        "\n",
        "X.shape"
      ],
      "execution_count": null,
      "outputs": [
        {
          "output_type": "execute_result",
          "data": {
            "text/plain": [
              "(1159, 384, 512, 3)"
            ]
          },
          "metadata": {
            "tags": []
          },
          "execution_count": 23
        }
      ]
    },
    {
      "cell_type": "code",
      "metadata": {
        "id": "hTtFafmYCGea"
      },
      "source": [
        "X_train, X_test, y_train, y_test = train_test_split(X, y, test_size=0.2, random_state=42, shuffle=True)\n",
        "X = y = []\n",
        "X_train, X_val, y_train, y_val =  train_test_split(X_train, y_train, test_size=0.2, random_state=42)\n",
        "y_train = to_categorical(y_train) # one hot\n",
        "# ví dụ y_number = 1 thì y = [0. 1. 0.]\n",
        "y_t = y_test\n",
        "y_test = to_categorical(y_test)\n",
        "y_val = to_categorical(y_val)"
      ],
      "execution_count": null,
      "outputs": []
    },
    {
      "cell_type": "code",
      "metadata": {
        "id": "WQIvXW3nvcun",
        "colab": {
          "base_uri": "https://localhost:8080/"
        },
        "outputId": "f2bfa40b-86b1-4b8e-c9cb-695ff843ba10"
      },
      "source": [
        "model = Sequential() \n",
        "\n",
        "model.add(Conv2D(filters=16, kernel_size=(3, 3), input_shape=X_train.shape[1:], padding=\"same\", activation=\"relu\"))\n",
        "model.add(AveragePooling2D(pool_size=(4, 4), strides=2))\n",
        "\n",
        "model.add(Conv2D(filters=32, kernel_size=(3, 3), activation=\"tanh\"))\n",
        "model.add(MaxPooling2D(pool_size=(2, 2), strides=2))\n",
        "\n",
        "model.add(Conv2D(filters=64, kernel_size=(3, 3), activation=\"selu\"))\n",
        "model.add(MaxPooling2D(pool_size=(2, 2), strides=2))\n",
        "\n",
        "model.add(Conv2D(filters=64, kernel_size=(3, 3), activation=\"selu\"))\n",
        "model.add(MaxPooling2D(pool_size=(2, 2), strides=2))\n",
        "\n",
        "model.add(Flatten())\n",
        "\n",
        "model.add(Dense(64))\n",
        "model.add(Activation(\"relu\"))\n",
        "\n",
        "model.add(Dense(number_classes))\n",
        "model.add(Activation(\"softmax\"))\n",
        "\n",
        "# Cung cấp cho mô hình hàm loss function lựa chọn, thuật toán tối ưu\n",
        "# categorical_crossentropy, Binary Cross Entropy\n",
        "model.compile(loss=\"categorical_crossentropy\", optimizer=\"adam\", metrics=[\"accuracy\"])\n",
        "model.summary() # xem chi tiết mô hình xây dựng của chính mình\n",
        "\n",
        "# Cuối cùng đào tạo nó\n",
        "history = model.fit(X_train, y_train, validation_data=(X_val, y_val), batch_size=32, epochs=25)"
      ],
      "execution_count": null,
      "outputs": [
        {
          "output_type": "stream",
          "text": [
            "Model: \"sequential\"\n",
            "_________________________________________________________________\n",
            "Layer (type)                 Output Shape              Param #   \n",
            "=================================================================\n",
            "conv2d (Conv2D)              (None, 384, 512, 16)      448       \n",
            "_________________________________________________________________\n",
            "average_pooling2d (AveragePo (None, 191, 255, 16)      0         \n",
            "_________________________________________________________________\n",
            "conv2d_1 (Conv2D)            (None, 189, 253, 32)      4640      \n",
            "_________________________________________________________________\n",
            "max_pooling2d (MaxPooling2D) (None, 94, 126, 32)       0         \n",
            "_________________________________________________________________\n",
            "conv2d_2 (Conv2D)            (None, 92, 124, 64)       18496     \n",
            "_________________________________________________________________\n",
            "max_pooling2d_1 (MaxPooling2 (None, 46, 62, 64)        0         \n",
            "_________________________________________________________________\n",
            "conv2d_3 (Conv2D)            (None, 44, 60, 64)        36928     \n",
            "_________________________________________________________________\n",
            "max_pooling2d_2 (MaxPooling2 (None, 22, 30, 64)        0         \n",
            "_________________________________________________________________\n",
            "flatten (Flatten)            (None, 42240)             0         \n",
            "_________________________________________________________________\n",
            "dense (Dense)                (None, 64)                2703424   \n",
            "_________________________________________________________________\n",
            "activation (Activation)      (None, 64)                0         \n",
            "_________________________________________________________________\n",
            "dense_1 (Dense)              (None, 4)                 260       \n",
            "_________________________________________________________________\n",
            "activation_1 (Activation)    (None, 4)                 0         \n",
            "=================================================================\n",
            "Total params: 2,764,196\n",
            "Trainable params: 2,764,196\n",
            "Non-trainable params: 0\n",
            "_________________________________________________________________\n",
            "Epoch 1/25\n",
            "24/24 [==============================] - 137s 6s/step - loss: 4.7652 - accuracy: 0.3042 - val_loss: 1.2289 - val_accuracy: 0.3441\n",
            "Epoch 2/25\n",
            "24/24 [==============================] - 141s 6s/step - loss: 1.2130 - accuracy: 0.4211 - val_loss: 1.2663 - val_accuracy: 0.4194\n",
            "Epoch 3/25\n",
            "24/24 [==============================] - 137s 6s/step - loss: 1.2590 - accuracy: 0.4445 - val_loss: 1.1735 - val_accuracy: 0.4301\n",
            "Epoch 4/25\n",
            "24/24 [==============================] - 135s 6s/step - loss: 1.1530 - accuracy: 0.5082 - val_loss: 1.1872 - val_accuracy: 0.4301\n",
            "Epoch 5/25\n",
            "24/24 [==============================] - 137s 6s/step - loss: 1.1558 - accuracy: 0.4776 - val_loss: 1.0941 - val_accuracy: 0.5215\n",
            "Epoch 6/25\n",
            "24/24 [==============================] - 137s 6s/step - loss: 1.0155 - accuracy: 0.5847 - val_loss: 1.0417 - val_accuracy: 0.5538\n",
            "Epoch 7/25\n",
            "24/24 [==============================] - 147s 6s/step - loss: 0.9636 - accuracy: 0.5993 - val_loss: 1.0312 - val_accuracy: 0.5699\n",
            "Epoch 8/25\n",
            "24/24 [==============================] - 137s 6s/step - loss: 0.9177 - accuracy: 0.6326 - val_loss: 0.9531 - val_accuracy: 0.5753\n",
            "Epoch 9/25\n",
            "24/24 [==============================] - 137s 6s/step - loss: 0.8669 - accuracy: 0.6688 - val_loss: 0.9591 - val_accuracy: 0.6129\n",
            "Epoch 10/25\n",
            "24/24 [==============================] - 136s 6s/step - loss: 0.9756 - accuracy: 0.6197 - val_loss: 1.2470 - val_accuracy: 0.4946\n",
            "Epoch 11/25\n",
            "24/24 [==============================] - 142s 6s/step - loss: 0.9279 - accuracy: 0.6268 - val_loss: 0.9393 - val_accuracy: 0.5968\n",
            "Epoch 12/25\n",
            "24/24 [==============================] - 141s 6s/step - loss: 0.7121 - accuracy: 0.7252 - val_loss: 1.1512 - val_accuracy: 0.5753\n",
            "Epoch 13/25\n",
            "24/24 [==============================] - 137s 6s/step - loss: 0.8753 - accuracy: 0.6372 - val_loss: 1.4222 - val_accuracy: 0.4570\n",
            "Epoch 14/25\n",
            "24/24 [==============================] - 137s 6s/step - loss: 1.0386 - accuracy: 0.5886 - val_loss: 1.2126 - val_accuracy: 0.4570\n",
            "Epoch 15/25\n",
            "24/24 [==============================] - 137s 6s/step - loss: 0.8899 - accuracy: 0.6952 - val_loss: 0.9629 - val_accuracy: 0.6183\n",
            "Epoch 16/25\n",
            "24/24 [==============================] - 142s 6s/step - loss: 0.7840 - accuracy: 0.6881 - val_loss: 1.1185 - val_accuracy: 0.5645\n",
            "Epoch 17/25\n",
            "24/24 [==============================] - 138s 6s/step - loss: 0.6329 - accuracy: 0.7587 - val_loss: 0.9630 - val_accuracy: 0.6022\n",
            "Epoch 18/25\n",
            "24/24 [==============================] - 137s 6s/step - loss: 0.4521 - accuracy: 0.8517 - val_loss: 1.2008 - val_accuracy: 0.6183\n",
            "Epoch 19/25\n",
            "24/24 [==============================] - 139s 6s/step - loss: 0.4476 - accuracy: 0.8272 - val_loss: 1.3221 - val_accuracy: 0.5753\n",
            "Epoch 20/25\n",
            "24/24 [==============================] - 145s 6s/step - loss: 0.4250 - accuracy: 0.8458 - val_loss: 1.0719 - val_accuracy: 0.6882\n",
            "Epoch 21/25\n",
            "24/24 [==============================] - 142s 6s/step - loss: 0.3742 - accuracy: 0.8702 - val_loss: 1.1595 - val_accuracy: 0.5806\n",
            "Epoch 22/25\n",
            "24/24 [==============================] - 138s 6s/step - loss: 0.2620 - accuracy: 0.9098 - val_loss: 1.1145 - val_accuracy: 0.6022\n",
            "Epoch 23/25\n",
            "24/24 [==============================] - 138s 6s/step - loss: 0.2557 - accuracy: 0.9116 - val_loss: 1.4397 - val_accuracy: 0.5430\n",
            "Epoch 24/25\n",
            "24/24 [==============================] - 140s 6s/step - loss: 0.2949 - accuracy: 0.8947 - val_loss: 1.8934 - val_accuracy: 0.5430\n",
            "Epoch 25/25\n",
            "24/24 [==============================] - 140s 6s/step - loss: 0.3142 - accuracy: 0.8805 - val_loss: 1.6447 - val_accuracy: 0.6022\n"
          ],
          "name": "stdout"
        }
      ]
    },
    {
      "cell_type": "code",
      "metadata": {
        "colab": {
          "base_uri": "https://localhost:8080/"
        },
        "id": "ApopYDPV599W",
        "outputId": "40d57830-d8cf-4888-eecf-466af0c71a68"
      },
      "source": [
        "cd \"/content/drive/MyDrive/W3_CNN\"\n"
      ],
      "execution_count": null,
      "outputs": [
        {
          "output_type": "stream",
          "text": [
            "/content/drive/MyDrive/W3_CNN\n"
          ],
          "name": "stdout"
        }
      ]
    },
    {
      "cell_type": "code",
      "metadata": {
        "id": "H1QeHvzTM2lL"
      },
      "source": [
        "mkdir -p saved_model\n"
      ],
      "execution_count": null,
      "outputs": []
    },
    {
      "cell_type": "code",
      "metadata": {
        "colab": {
          "base_uri": "https://localhost:8080/"
        },
        "id": "oNW-1qslM7Th",
        "outputId": "6c5c89b6-9640-42a3-c54f-a8f657283707"
      },
      "source": [
        "model.save('saved_model/my_model')\n",
        "new_model = load_model('saved_model/my_model')\n",
        "\n",
        "new_model.summary()"
      ],
      "execution_count": null,
      "outputs": [
        {
          "output_type": "stream",
          "text": [
            "INFO:tensorflow:Assets written to: saved_model/my_model/assets\n",
            "Model: \"sequential\"\n",
            "_________________________________________________________________\n",
            "Layer (type)                 Output Shape              Param #   \n",
            "=================================================================\n",
            "conv2d (Conv2D)              (None, 384, 512, 16)      448       \n",
            "_________________________________________________________________\n",
            "average_pooling2d (AveragePo (None, 191, 255, 16)      0         \n",
            "_________________________________________________________________\n",
            "conv2d_1 (Conv2D)            (None, 189, 253, 32)      4640      \n",
            "_________________________________________________________________\n",
            "max_pooling2d (MaxPooling2D) (None, 94, 126, 32)       0         \n",
            "_________________________________________________________________\n",
            "conv2d_2 (Conv2D)            (None, 92, 124, 64)       18496     \n",
            "_________________________________________________________________\n",
            "max_pooling2d_1 (MaxPooling2 (None, 46, 62, 64)        0         \n",
            "_________________________________________________________________\n",
            "conv2d_3 (Conv2D)            (None, 44, 60, 64)        36928     \n",
            "_________________________________________________________________\n",
            "max_pooling2d_2 (MaxPooling2 (None, 22, 30, 64)        0         \n",
            "_________________________________________________________________\n",
            "flatten (Flatten)            (None, 42240)             0         \n",
            "_________________________________________________________________\n",
            "dense (Dense)                (None, 64)                2703424   \n",
            "_________________________________________________________________\n",
            "activation (Activation)      (None, 64)                0         \n",
            "_________________________________________________________________\n",
            "dense_1 (Dense)              (None, 4)                 260       \n",
            "_________________________________________________________________\n",
            "activation_1 (Activation)    (None, 4)                 0         \n",
            "=================================================================\n",
            "Total params: 2,764,196\n",
            "Trainable params: 2,764,196\n",
            "Non-trainable params: 0\n",
            "_________________________________________________________________\n"
          ],
          "name": "stdout"
        }
      ]
    },
    {
      "cell_type": "code",
      "metadata": {
        "colab": {
          "base_uri": "https://localhost:8080/"
        },
        "id": "Ui8mLbjL6GAN",
        "outputId": "3b25c269-bd41-44fc-955a-b6ec5e08cf3c"
      },
      "source": [
        "loss, acc = new_model.evaluate(X_test, y_test, verbose=2)\n",
        "print('Restored model, accuracy: {:5.2f}%'.format(100*acc))"
      ],
      "execution_count": null,
      "outputs": [
        {
          "output_type": "stream",
          "text": [
            "8/8 - 15s - loss: 1.4936 - accuracy: 0.5905\n",
            "Restored model, accuracy: 59.05%\n"
          ],
          "name": "stdout"
        }
      ]
    }
  ]
}